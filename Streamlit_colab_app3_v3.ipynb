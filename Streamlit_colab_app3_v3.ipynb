{
  "nbformat": 4,
  "nbformat_minor": 0,
  "metadata": {
    "colab": {
      "name": "Streamlit-colab_app3_v3.ipynb",
      "provenance": [],
      "collapsed_sections": [],
      "mount_file_id": "1JIHmNCxa_cEZLpn6BRrK_ZEZELy045NJ",
      "authorship_tag": "ABX9TyPHvrrJVIBSpNLYrGhkP47T",
      "include_colab_link": true
    },
    "kernelspec": {
      "name": "python3",
      "display_name": "Python 3"
    },
    "language_info": {
      "name": "python"
    }
  },
  "cells": [
    {
      "cell_type": "markdown",
      "metadata": {
        "id": "view-in-github",
        "colab_type": "text"
      },
      "source": [
        "<a href=\"https://colab.research.google.com/github/prakashsukhwal/DSSI_app3/blob/main/Streamlit_colab_app3_v3.ipynb\" target=\"_parent\"><img src=\"https://colab.research.google.com/assets/colab-badge.svg\" alt=\"Open In Colab\"/></a>"
      ]
    },
    {
      "cell_type": "code",
      "metadata": {
        "id": "xSrMTtRUNvGu"
      },
      "source": [
        "!pip install streamlit"
      ],
      "execution_count": null,
      "outputs": []
    },
    {
      "cell_type": "code",
      "metadata": {
        "colab": {
          "base_uri": "https://localhost:8080/"
        },
        "id": "g5A9uDsk-Iem",
        "outputId": "dc2eb6db-d7c9-4c43-e2ca-8733f02465a4"
      },
      "source": [
        "from google.colab import drive\n",
        "\n",
        "drive.mount('/content/gdrive')"
      ],
      "execution_count": 23,
      "outputs": [
        {
          "output_type": "stream",
          "name": "stdout",
          "text": [
            "Drive already mounted at /content/gdrive; to attempt to forcibly remount, call drive.mount(\"/content/gdrive\", force_remount=True).\n"
          ]
        }
      ]
    },
    {
      "cell_type": "code",
      "metadata": {
        "id": "tk60Kn1ON4FF",
        "colab": {
          "base_uri": "https://localhost:8080/"
        },
        "outputId": "169e1a0f-514d-4987-9ceb-df14dbedb705"
      },
      "source": [
        "# Author: Prakash Sukhwal\n",
        "# version: 2.0\n",
        "# Aug 2021\n",
        "%%writefile app3_v2.py\n",
        "\n",
        "import streamlit as st\n",
        "# other libs\n",
        "import numpy as np\n",
        "import pandas as pd\n",
        "import pickle\n",
        "# import pyautogui # for reset button: pip install pyautogui\n",
        "\n",
        "# load the model.pkl\n",
        "#/content/drive/MyDrive/Solution Implementation Course/model.pkl\n",
        "path = r'/content/model.pkl' # just drag and drop the model file in your google drive\n",
        "with open(path, \"rb\") as f:\n",
        "\tmodel = pickle.load(f)\n",
        "\n",
        "# Streamlit provides a caching mechanism that allows your app to stay performant \n",
        "# even when loading data from the web, manipulating large datasets, \n",
        "# or performing expensive computations. This is done with the @st.cache decorator.\n",
        "@st.cache()\n",
        "\n",
        "def prediction(int_rate, emp_length, annual_inc, delinq_2yrs, fico_range_high,revol_bal, open_acc):\n",
        "\t# Making predictions\n",
        "\tprediction = model.predict([[int_rate, emp_length, annual_inc, delinq_2yrs,fico_range_high,revol_bal, open_acc]])\n",
        "\tif prediction == 0:\n",
        "\t\tpred = 'Rejected'\n",
        "\telse:\n",
        "\t\tpred = 'Approved'\n",
        "\treturn pred\n",
        "\n",
        "\n",
        "# putting the app related codes in main()\n",
        "def main():\n",
        "\t# -- Set page config\n",
        "\tapptitle = 'DSSI'\n",
        "\tst.set_page_config(page_title=apptitle, page_icon='random', \n",
        "\t\tlayout= 'wide', initial_sidebar_state=\"expanded\")\n",
        "\t# random icons in the browser tab\n",
        "\n",
        "\t# give a title to your app\n",
        "\tst.title('Solution Implementation')\n",
        "\t#front end elements of the web page \n",
        "\t# pick colors from: https://www.w3schools.com/tags/ref_colornames.asp\n",
        "\thtml_temp = \"\"\" <div style =\"background-color:AntiqueWhite;padding:15px\"> \n",
        "       <h1 style =\"color:black;text-align:center;\">A loan application assessment app</h1> \n",
        "       </div> <br/>\"\"\"\n",
        "\n",
        "    #display the front end aspect\n",
        "\tst.markdown(html_temp, unsafe_allow_html = True)\n",
        "\t# let us make infrastructure to provide inputs\n",
        "\t# we will add the inputs to side bar\n",
        "\tst.sidebar.info('Provide input using the panel')\n",
        "\tst.info('Click Assess button below')\n",
        "\n",
        "\tint_rate = st.sidebar.slider('int_rate', 5, 25, 10)\n",
        "\tst.write('input int_rate', int_rate)\n",
        "\temp_length = st.sidebar.slider('emp_length', 0, 40, 5)\n",
        "\tst.write('input emp_length', emp_length)\n",
        "\tannual_inc = st.sidebar.slider('annual_inc in 1000s', 40, 100, 60)\n",
        "\tst.write('input annual_inc', annual_inc*1000)\n",
        "\tdelinq_2yrs = st.sidebar.slider('delinq_2yrs', 0, 20, 0)\n",
        "\tst.write('input delinq_2yrs', delinq_2yrs)\n",
        "\tfico_range_high = st.sidebar.slider('fico_range_high', 630, 900, 700)\n",
        "\tst.write('input fico_range_high', fico_range_high)\n",
        "\trevol_bal = st.sidebar.slider('revol_bal', 1, 1000, 2)\n",
        "\tst.write('input revol_bal', revol_bal*1000)\n",
        "\topen_acc = st.sidebar.slider('open_acc', 1, 50, 2)\n",
        "\tst.write('input open_acc', open_acc)\n",
        "\tresult =\"\"\n",
        "\t# assessment button\n",
        "\tif st.button(\"Predict\"):\n",
        "\t\tassessment = prediction(int_rate, emp_length, annual_inc, delinq_2yrs, fico_range_high,revol_bal, open_acc)\n",
        "\t\tst.success('**System assessment says:** {}'.format(assessment))\n",
        "\n",
        "\t# if st.button(\"Reset\"):\n",
        "\t# \tpyautogui.hotkey(\"ctrl\",\"F5\")\n",
        "\n",
        "\t# st.balloons()\n",
        "\tst.success(\"App is working!!\") # other tags include st.error, st.warning, st.help etc.\n",
        "\n",
        "if __name__ == '__main__':\n",
        "\tmain()\n"
      ],
      "execution_count": 24,
      "outputs": [
        {
          "output_type": "stream",
          "name": "stdout",
          "text": [
            "Overwriting app3_v2.py\n"
          ]
        }
      ]
    },
    {
      "cell_type": "code",
      "metadata": {
        "id": "LEkL4tECPtf_",
        "colab": {
          "base_uri": "https://localhost:8080/"
        },
        "outputId": "1f34df2e-0c0f-41c4-f454-99f683fab0c6"
      },
      "source": [
        "!ls"
      ],
      "execution_count": 25,
      "outputs": [
        {
          "output_type": "stream",
          "name": "stdout",
          "text": [
            "app3_v2.py  gdrive  model.pkl  ngrok  ngrok-stable-linux-amd64.zip  sample_data\n"
          ]
        }
      ]
    },
    {
      "cell_type": "code",
      "source": [
        "!pip install pyngrok"
      ],
      "metadata": {
        "colab": {
          "base_uri": "https://localhost:8080/"
        },
        "id": "QokduG3Ys3zg",
        "outputId": "6133ed63-0830-4d33-d0a7-4e781599730e"
      },
      "execution_count": 26,
      "outputs": [
        {
          "output_type": "stream",
          "name": "stdout",
          "text": [
            "Requirement already satisfied: pyngrok in /usr/local/lib/python3.7/dist-packages (5.1.0)\n",
            "Requirement already satisfied: PyYAML in /usr/local/lib/python3.7/dist-packages (from pyngrok) (3.13)\n"
          ]
        }
      ]
    },
    {
      "cell_type": "code",
      "source": [
        "!ngrok authtoken << enter token from https://dashboard.ngrok.com/get-started/your-authtoken >>"
      ],
      "metadata": {
        "colab": {
          "base_uri": "https://localhost:8080/"
        },
        "id": "eFMWLswPs86G",
        "outputId": "4250ae7c-8686-49a5-cbc0-5737ac18356f"
      },
      "execution_count": 36,
      "outputs": [
        {
          "output_type": "stream",
          "name": "stdout",
          "text": [
            "Authtoken saved to configuration file: /root/.ngrok2/ngrok.yml\n"
          ]
        }
      ]
    },
    {
      "cell_type": "code",
      "metadata": {
        "id": "aaPZ7hARVefl",
        "colab": {
          "base_uri": "https://localhost:8080/"
        },
        "outputId": "488db200-3097-4677-a763-ccba26f10a69"
      },
      "source": [
        "!wget https://bin.equinox.io/c/4VmDzA7iaHb/ngrok-stable-linux-amd64.zip"
      ],
      "execution_count": 37,
      "outputs": [
        {
          "output_type": "stream",
          "name": "stdout",
          "text": [
            "--2021-12-09 05:52:24--  https://bin.equinox.io/c/4VmDzA7iaHb/ngrok-stable-linux-amd64.zip\n",
            "Resolving bin.equinox.io (bin.equinox.io)... 52.202.168.65, 54.237.133.81, 18.205.222.128, ...\n",
            "Connecting to bin.equinox.io (bin.equinox.io)|52.202.168.65|:443... connected.\n",
            "HTTP request sent, awaiting response... 200 OK\n",
            "Length: 13832437 (13M) [application/octet-stream]\n",
            "Saving to: ‘ngrok-stable-linux-amd64.zip.2’\n",
            "\n",
            "ngrok-stable-linux- 100%[===================>]  13.19M  8.02MB/s    in 1.6s    \n",
            "\n",
            "2021-12-09 05:52:25 (8.02 MB/s) - ‘ngrok-stable-linux-amd64.zip.2’ saved [13832437/13832437]\n",
            "\n"
          ]
        }
      ]
    },
    {
      "cell_type": "code",
      "metadata": {
        "id": "sla3v3o1VeVd",
        "colab": {
          "base_uri": "https://localhost:8080/"
        },
        "outputId": "462119c2-dbda-43de-c907-04433682d69e"
      },
      "source": [
        "!unzip ngrok-stable-linux-amd64.zip"
      ],
      "execution_count": 38,
      "outputs": [
        {
          "output_type": "stream",
          "name": "stdout",
          "text": [
            "Archive:  ngrok-stable-linux-amd64.zip\n",
            "replace ngrok? [y]es, [n]o, [A]ll, [N]one, [r]ename: n\n"
          ]
        }
      ]
    },
    {
      "cell_type": "code",
      "metadata": {
        "id": "KBV-UJfeVvQl"
      },
      "source": [
        "get_ipython().system_raw('./ngrok http 8501 &')"
      ],
      "execution_count": 39,
      "outputs": []
    },
    {
      "cell_type": "code",
      "metadata": {
        "id": "4_-rJtpcPtcS"
      },
      "source": [
        "# run the app\n",
        "!streamlit run app3_v2.py &>/dev/null&"
      ],
      "execution_count": 40,
      "outputs": []
    },
    {
      "cell_type": "code",
      "metadata": {
        "id": "1audXTOWVvEq",
        "colab": {
          "base_uri": "https://localhost:8080/"
        },
        "outputId": "8468c03e-1468-43f4-c67b-69b7173e7725"
      },
      "source": [
        "!curl -s http://localhost:4040/api/tunnels | python3 -c \\\n",
        "    'import sys, json; print(\" Access the app at URL: \" +json.load(sys.stdin)[\"tunnels\"][0][\"public_url\"])'"
      ],
      "execution_count": 41,
      "outputs": [
        {
          "output_type": "stream",
          "name": "stdout",
          "text": [
            " Access the app at URL: https://a3c7-35-196-51-115.ngrok.io\n"
          ]
        }
      ]
    },
    {
      "cell_type": "code",
      "metadata": {
        "id": "fhyZRx9Qvb3q",
        "colab": {
          "base_uri": "https://localhost:8080/"
        },
        "outputId": "4f7368f9-656c-463d-b0c2-5c8dec332c56"
      },
      "source": [
        "# what is the process id\n",
        "!pgrep streamlit"
      ],
      "execution_count": 42,
      "outputs": [
        {
          "output_type": "stream",
          "name": "stdout",
          "text": [
            "554\n",
            "600\n"
          ]
        }
      ]
    },
    {
      "cell_type": "code",
      "metadata": {
        "id": "Tsv-e5h-XOQl"
      },
      "source": [
        "!kill 600 # change with current process id"
      ],
      "execution_count": 45,
      "outputs": []
    },
    {
      "cell_type": "code",
      "metadata": {
        "id": "Cmxyfvfe2GMa"
      },
      "source": [
        "# ngrok.kill()"
      ],
      "execution_count": 35,
      "outputs": []
    }
  ]
}